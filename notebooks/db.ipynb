{
 "cells": [
  {
   "cell_type": "code",
   "execution_count": 1,
   "id": "bb7c78ba",
   "metadata": {},
   "outputs": [
    {
     "name": "stdout",
     "output_type": "stream",
     "text": [
      "Collecting sqlalchemy\n",
      "  Downloading sqlalchemy-2.0.41-cp313-cp313-win_amd64.whl.metadata (9.8 kB)\n",
      "Collecting pyodbc\n",
      "  Downloading pyodbc-5.2.0-cp313-cp313-win_amd64.whl.metadata (2.8 kB)\n",
      "Collecting greenlet>=1 (from sqlalchemy)\n",
      "  Downloading greenlet-3.2.3-cp313-cp313-win_amd64.whl.metadata (4.2 kB)\n",
      "Requirement already satisfied: typing-extensions>=4.6.0 in c:\\users\\malun\\documents\\github\\customer-segmentation\\env_cust_seg\\lib\\site-packages (from sqlalchemy) (4.14.1)\n",
      "Downloading sqlalchemy-2.0.41-cp313-cp313-win_amd64.whl (2.1 MB)\n",
      "   ---------------------------------------- 0.0/2.1 MB ? eta -:--:--\n",
      "   ---------------------------------------- 2.1/2.1 MB 31.3 MB/s eta 0:00:00\n",
      "Downloading pyodbc-5.2.0-cp313-cp313-win_amd64.whl (69 kB)\n",
      "Downloading greenlet-3.2.3-cp313-cp313-win_amd64.whl (297 kB)\n",
      "Installing collected packages: pyodbc, greenlet, sqlalchemy\n",
      "\n",
      "   ------------- -------------------------- 1/3 [greenlet]\n",
      "   ------------- -------------------------- 1/3 [greenlet]\n",
      "   ------------- -------------------------- 1/3 [greenlet]\n",
      "   -------------------------- ------------- 2/3 [sqlalchemy]\n",
      "   -------------------------- ------------- 2/3 [sqlalchemy]\n",
      "   -------------------------- ------------- 2/3 [sqlalchemy]\n",
      "   -------------------------- ------------- 2/3 [sqlalchemy]\n",
      "   -------------------------- ------------- 2/3 [sqlalchemy]\n",
      "   -------------------------- ------------- 2/3 [sqlalchemy]\n",
      "   -------------------------- ------------- 2/3 [sqlalchemy]\n",
      "   -------------------------- ------------- 2/3 [sqlalchemy]\n",
      "   -------------------------- ------------- 2/3 [sqlalchemy]\n",
      "   -------------------------- ------------- 2/3 [sqlalchemy]\n",
      "   -------------------------- ------------- 2/3 [sqlalchemy]\n",
      "   -------------------------- ------------- 2/3 [sqlalchemy]\n",
      "   -------------------------- ------------- 2/3 [sqlalchemy]\n",
      "   -------------------------- ------------- 2/3 [sqlalchemy]\n",
      "   -------------------------- ------------- 2/3 [sqlalchemy]\n",
      "   -------------------------- ------------- 2/3 [sqlalchemy]\n",
      "   -------------------------- ------------- 2/3 [sqlalchemy]\n",
      "   -------------------------- ------------- 2/3 [sqlalchemy]\n",
      "   -------------------------- ------------- 2/3 [sqlalchemy]\n",
      "   -------------------------- ------------- 2/3 [sqlalchemy]\n",
      "   -------------------------- ------------- 2/3 [sqlalchemy]\n",
      "   -------------------------- ------------- 2/3 [sqlalchemy]\n",
      "   -------------------------- ------------- 2/3 [sqlalchemy]\n",
      "   ---------------------------------------- 3/3 [sqlalchemy]\n",
      "\n",
      "Successfully installed greenlet-3.2.3 pyodbc-5.2.0 sqlalchemy-2.0.41\n"
     ]
    }
   ],
   "source": [
    "!pip install sqlalchemy pyodbc"
   ]
  },
  {
   "cell_type": "code",
   "execution_count": 2,
   "id": "2c0c7dab",
   "metadata": {},
   "outputs": [],
   "source": [
    "import sqlalchemy\n",
    "import pyodbc"
   ]
  },
  {
   "cell_type": "code",
   "execution_count": 2,
   "id": "c123fb70",
   "metadata": {},
   "outputs": [
    {
     "name": "stderr",
     "output_type": "stream",
     "text": [
      "<>:5: SyntaxWarning: invalid escape sequence '\\S'\n",
      "<>:5: SyntaxWarning: invalid escape sequence '\\S'\n",
      "C:\\Users\\malun\\AppData\\Local\\Temp\\ipykernel_18636\\1368338680.py:5: SyntaxWarning: invalid escape sequence '\\S'\n",
      "  server = \"MELO0501\\SQLEXPRESS02\"          # Or your server name\n"
     ]
    },
    {
     "name": "stdout",
     "output_type": "stream",
     "text": [
      "✅ Data written successfully!\n"
     ]
    }
   ],
   "source": [
    "from sqlalchemy import create_engine\n",
    "import pandas as pd\n",
    "\n",
    "# Replace these with your actual values\n",
    "server = \"MELO0501\\SQLEXPRESS02\"          # Or your server name\n",
    "database = 'CustomerSegmentation'       # Your database name\n",
    "\n",
    "connection_string = f\"mssql+pyodbc://@{server}/{database}?driver=ODBC+Driver+17+for+SQL+Server&trusted_connection=yes\"\n",
    "engine = create_engine(connection_string)\n",
    "\n",
    "# Sample DataFrame\n",
    "df_test = pd.DataFrame({\n",
    "    \"TestColumn1\": [1, 2, 3],\n",
    "    \"TestColumn2\": ['A', 'B', 'C']\n",
    "})\n",
    "\n",
    "# Write to test table\n",
    "df_test.to_sql(\"TestWriteTable\", engine, if_exists=\"replace\", index=False)\n",
    "\n",
    "print(\"✅ Data written successfully!\")"
   ]
  },
  {
   "cell_type": "code",
   "execution_count": null,
   "id": "337c8972",
   "metadata": {},
   "outputs": [],
   "source": []
  }
 ],
 "metadata": {
  "kernelspec": {
   "display_name": "env_cust_seg",
   "language": "python",
   "name": "python3"
  },
  "language_info": {
   "codemirror_mode": {
    "name": "ipython",
    "version": 3
   },
   "file_extension": ".py",
   "mimetype": "text/x-python",
   "name": "python",
   "nbconvert_exporter": "python",
   "pygments_lexer": "ipython3",
   "version": "3.13.3"
  }
 },
 "nbformat": 4,
 "nbformat_minor": 5
}
